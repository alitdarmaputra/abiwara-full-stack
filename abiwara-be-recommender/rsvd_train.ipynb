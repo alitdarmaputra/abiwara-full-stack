{
 "cells": [
  {
   "cell_type": "markdown",
   "metadata": {},
   "source": [
    "# Books Recommendation with RSVD and Collaborative Filtering"
   ]
  },
  {
   "cell_type": "markdown",
   "metadata": {},
   "source": [
    "## Import library"
   ]
  },
  {
   "cell_type": "code",
   "execution_count": 1,
   "metadata": {},
   "outputs": [],
   "source": [
    "import pandas as pd\n",
    "import numpy as np\n",
    "from sklearn.model_selection import train_test_split\n",
    "from surprise import Reader, Dataset\n",
    "import pickle, gzip, pickletools\n",
    "from rsvd import RSVD"
   ]
  },
  {
   "cell_type": "markdown",
   "metadata": {},
   "source": [
    "## Import dataset"
   ]
  },
  {
   "cell_type": "code",
   "execution_count": 2,
   "metadata": {},
   "outputs": [
    {
     "data": {
      "text/html": [
       "<div>\n",
       "<style scoped>\n",
       "    .dataframe tbody tr th:only-of-type {\n",
       "        vertical-align: middle;\n",
       "    }\n",
       "\n",
       "    .dataframe tbody tr th {\n",
       "        vertical-align: top;\n",
       "    }\n",
       "\n",
       "    .dataframe thead th {\n",
       "        text-align: right;\n",
       "    }\n",
       "</style>\n",
       "<table border=\"1\" class=\"dataframe\">\n",
       "  <thead>\n",
       "    <tr style=\"text-align: right;\">\n",
       "      <th></th>\n",
       "      <th>user_id</th>\n",
       "      <th>book_id</th>\n",
       "      <th>rating</th>\n",
       "    </tr>\n",
       "  </thead>\n",
       "  <tbody>\n",
       "    <tr>\n",
       "      <th>0</th>\n",
       "      <td>51e49f25-397d-43a1-a807-005933626d2e</td>\n",
       "      <td>1283</td>\n",
       "      <td>3</td>\n",
       "    </tr>\n",
       "    <tr>\n",
       "      <th>1</th>\n",
       "      <td>51e49f25-397d-43a1-a807-005933626d2e</td>\n",
       "      <td>11</td>\n",
       "      <td>3</td>\n",
       "    </tr>\n",
       "    <tr>\n",
       "      <th>2</th>\n",
       "      <td>51e49f25-397d-43a1-a807-005933626d2e</td>\n",
       "      <td>207</td>\n",
       "      <td>3</td>\n",
       "    </tr>\n",
       "    <tr>\n",
       "      <th>3</th>\n",
       "      <td>51e49f25-397d-43a1-a807-005933626d2e</td>\n",
       "      <td>312</td>\n",
       "      <td>3</td>\n",
       "    </tr>\n",
       "    <tr>\n",
       "      <th>4</th>\n",
       "      <td>51e49f25-397d-43a1-a807-005933626d2e</td>\n",
       "      <td>824</td>\n",
       "      <td>4</td>\n",
       "    </tr>\n",
       "    <tr>\n",
       "      <th>...</th>\n",
       "      <td>...</td>\n",
       "      <td>...</td>\n",
       "      <td>...</td>\n",
       "    </tr>\n",
       "    <tr>\n",
       "      <th>124836</th>\n",
       "      <td>b06db5a6-f1ca-4f2a-ab7f-90109157e4be</td>\n",
       "      <td>861</td>\n",
       "      <td>4</td>\n",
       "    </tr>\n",
       "    <tr>\n",
       "      <th>124837</th>\n",
       "      <td>b06db5a6-f1ca-4f2a-ab7f-90109157e4be</td>\n",
       "      <td>449</td>\n",
       "      <td>3</td>\n",
       "    </tr>\n",
       "    <tr>\n",
       "      <th>124838</th>\n",
       "      <td>b06db5a6-f1ca-4f2a-ab7f-90109157e4be</td>\n",
       "      <td>664</td>\n",
       "      <td>3</td>\n",
       "    </tr>\n",
       "    <tr>\n",
       "      <th>124839</th>\n",
       "      <td>b06db5a6-f1ca-4f2a-ab7f-90109157e4be</td>\n",
       "      <td>208</td>\n",
       "      <td>3</td>\n",
       "    </tr>\n",
       "    <tr>\n",
       "      <th>124840</th>\n",
       "      <td>b06db5a6-f1ca-4f2a-ab7f-90109157e4be</td>\n",
       "      <td>113</td>\n",
       "      <td>3</td>\n",
       "    </tr>\n",
       "  </tbody>\n",
       "</table>\n",
       "<p>124841 rows × 3 columns</p>\n",
       "</div>"
      ],
      "text/plain": [
       "                                     user_id  book_id  rating\n",
       "0       51e49f25-397d-43a1-a807-005933626d2e     1283       3\n",
       "1       51e49f25-397d-43a1-a807-005933626d2e       11       3\n",
       "2       51e49f25-397d-43a1-a807-005933626d2e      207       3\n",
       "3       51e49f25-397d-43a1-a807-005933626d2e      312       3\n",
       "4       51e49f25-397d-43a1-a807-005933626d2e      824       4\n",
       "...                                      ...      ...     ...\n",
       "124836  b06db5a6-f1ca-4f2a-ab7f-90109157e4be      861       4\n",
       "124837  b06db5a6-f1ca-4f2a-ab7f-90109157e4be      449       3\n",
       "124838  b06db5a6-f1ca-4f2a-ab7f-90109157e4be      664       3\n",
       "124839  b06db5a6-f1ca-4f2a-ab7f-90109157e4be      208       3\n",
       "124840  b06db5a6-f1ca-4f2a-ab7f-90109157e4be      113       3\n",
       "\n",
       "[124841 rows x 3 columns]"
      ]
     },
     "execution_count": 2,
     "metadata": {},
     "output_type": "execute_result"
    }
   ],
   "source": [
    "df = pd.read_csv(\"./input/ratings.csv\")\n",
    "df"
   ]
  },
  {
   "cell_type": "code",
   "execution_count": 3,
   "metadata": {},
   "outputs": [
    {
     "name": "stdout",
     "output_type": "stream",
     "text": [
      "(886,)\n"
     ]
    }
   ],
   "source": [
    "print(df[\"book_id\"].unique().shape)"
   ]
  },
  {
   "cell_type": "markdown",
   "metadata": {},
   "source": [
    "## Split data\n",
    "\n",
    "Split data into 80% training and 20% testing"
   ]
  },
  {
   "cell_type": "code",
   "execution_count": 4,
   "metadata": {},
   "outputs": [
    {
     "name": "stdout",
     "output_type": "stream",
     "text": [
      "Training set size:  (99872, 3)\n",
      "Test set size:  (24969, 3)\n"
     ]
    }
   ],
   "source": [
    "trainset, testset = train_test_split(df, test_size=0.2)\n",
    "\n",
    "print(\"Training set size: \", trainset.shape)\n",
    "print(\"Test set size: \", testset.shape)"
   ]
  },
  {
   "cell_type": "code",
   "execution_count": 5,
   "metadata": {},
   "outputs": [],
   "source": [
    "reader = Reader(line_format=\"user item rating\", rating_scale=(1,5))\n",
    "train_data = Dataset.load_from_df(trainset, reader)"
   ]
  },
  {
   "cell_type": "code",
   "execution_count": 6,
   "metadata": {},
   "outputs": [],
   "source": [
    "train_data = train_data.build_full_trainset()"
   ]
  },
  {
   "cell_type": "markdown",
   "metadata": {},
   "source": [
    "## Define MAE and RMSE as Evaluation Metric"
   ]
  },
  {
   "cell_type": "code",
   "execution_count": 7,
   "metadata": {},
   "outputs": [],
   "source": [
    "def mae(testset, pred):\n",
    "    if len(testset) != len(pred):\n",
    "        raise ValueError(\"testset and pred must have the same length\")\n",
    "\n",
    "    n = len(testset)\n",
    "    total_error = 0\n",
    "\n",
    "    for i in range(n):\n",
    "        total_error += abs(testset[i] - pred[i])\n",
    "\n",
    "    return total_error / n\n",
    "\n",
    "def rmse(testset, pred):\n",
    "    if len(testset) != len(pred):\n",
    "        raise ValueError(\"testset and pred must have the same length\")\n",
    "\n",
    "\n",
    "    test_arr = np.array(testset)\n",
    "    pred_arr = np.array(pred)\n",
    "    return np.sqrt(np.mean((pred-test_arr) ** 2))"
   ]
  },
  {
   "cell_type": "markdown",
   "metadata": {},
   "source": [
    "## Train and Test Model"
   ]
  },
  {
   "cell_type": "markdown",
   "metadata": {},
   "source": [
    "### Train RSVD model with reg = 0"
   ]
  },
  {
   "cell_type": "code",
   "execution_count": 8,
   "metadata": {},
   "outputs": [
    {
     "name": "stdout",
     "output_type": "stream",
     "text": [
      "train test 1\n",
      "train test 2\n",
      "train test 3\n",
      "train test 4\n",
      "train test 5\n",
      "train test 6\n",
      "train test 7\n"
     ]
    },
    {
     "data": {
      "text/html": [
       "<div>\n",
       "<style scoped>\n",
       "    .dataframe tbody tr th:only-of-type {\n",
       "        vertical-align: middle;\n",
       "    }\n",
       "\n",
       "    .dataframe tbody tr th {\n",
       "        vertical-align: top;\n",
       "    }\n",
       "\n",
       "    .dataframe thead th {\n",
       "        text-align: right;\n",
       "    }\n",
       "</style>\n",
       "<table border=\"1\" class=\"dataframe\">\n",
       "  <thead>\n",
       "    <tr style=\"text-align: right;\">\n",
       "      <th></th>\n",
       "      <th>latent features</th>\n",
       "      <th>MAE</th>\n",
       "      <th>RMSE</th>\n",
       "    </tr>\n",
       "  </thead>\n",
       "  <tbody>\n",
       "    <tr>\n",
       "      <th>0</th>\n",
       "      <td>1</td>\n",
       "      <td>0.505586</td>\n",
       "      <td>0.712364</td>\n",
       "    </tr>\n",
       "    <tr>\n",
       "      <th>1</th>\n",
       "      <td>2</td>\n",
       "      <td>0.505208</td>\n",
       "      <td>0.711840</td>\n",
       "    </tr>\n",
       "    <tr>\n",
       "      <th>2</th>\n",
       "      <td>3</td>\n",
       "      <td>0.503116</td>\n",
       "      <td>0.710819</td>\n",
       "    </tr>\n",
       "    <tr>\n",
       "      <th>3</th>\n",
       "      <td>4</td>\n",
       "      <td>0.503043</td>\n",
       "      <td>0.710509</td>\n",
       "    </tr>\n",
       "    <tr>\n",
       "      <th>4</th>\n",
       "      <td>5</td>\n",
       "      <td>0.499382</td>\n",
       "      <td>0.706036</td>\n",
       "    </tr>\n",
       "    <tr>\n",
       "      <th>5</th>\n",
       "      <td>6</td>\n",
       "      <td>0.497261</td>\n",
       "      <td>0.705151</td>\n",
       "    </tr>\n",
       "    <tr>\n",
       "      <th>6</th>\n",
       "      <td>7</td>\n",
       "      <td>0.495355</td>\n",
       "      <td>0.703981</td>\n",
       "    </tr>\n",
       "  </tbody>\n",
       "</table>\n",
       "</div>"
      ],
      "text/plain": [
       "   latent features       MAE      RMSE\n",
       "0                1  0.505586  0.712364\n",
       "1                2  0.505208  0.711840\n",
       "2                3  0.503116  0.710819\n",
       "3                4  0.503043  0.710509\n",
       "4                5  0.499382  0.706036\n",
       "5                6  0.497261  0.705151\n",
       "6                7  0.495355  0.703981"
      ]
     },
     "execution_count": 8,
     "metadata": {},
     "output_type": "execute_result"
    }
   ],
   "source": [
    "mae_res = []\n",
    "rmse_res = []\n",
    "factors = []\n",
    "\n",
    "for i in range(1, 8):\n",
    "    print(\"train test\", i)\n",
    "    model_i = RSVD(n_factors=i, n_epochs=30, reg=0, verbose=False)\n",
    "    model_i.fit(train_data)\n",
    "\n",
    "    pred_test = model_i.predict(testset)\n",
    "\n",
    "    mae_res.append(mae(testset[\"rating\"].to_list(), pred_test))\n",
    "    rmse_res.append(rmse(testset[\"rating\"].to_list(), pred_test))\n",
    "    factors.append(i)\n",
    "\n",
    "result = pd.DataFrame({\"latent features\": factors, \"MAE\": mae_res, \"RMSE\": rmse_res})\n",
    "result"
   ]
  },
  {
   "cell_type": "markdown",
   "metadata": {},
   "source": [
    "### Train RSVD model with reg = 0.05"
   ]
  },
  {
   "cell_type": "code",
   "execution_count": 9,
   "metadata": {},
   "outputs": [
    {
     "name": "stdout",
     "output_type": "stream",
     "text": [
      "train test 1\n",
      "train test 2\n",
      "train test 3\n",
      "train test 4\n",
      "train test 5\n",
      "train test 6\n",
      "train test 7\n"
     ]
    },
    {
     "data": {
      "text/html": [
       "<div>\n",
       "<style scoped>\n",
       "    .dataframe tbody tr th:only-of-type {\n",
       "        vertical-align: middle;\n",
       "    }\n",
       "\n",
       "    .dataframe tbody tr th {\n",
       "        vertical-align: top;\n",
       "    }\n",
       "\n",
       "    .dataframe thead th {\n",
       "        text-align: right;\n",
       "    }\n",
       "</style>\n",
       "<table border=\"1\" class=\"dataframe\">\n",
       "  <thead>\n",
       "    <tr style=\"text-align: right;\">\n",
       "      <th></th>\n",
       "      <th>latent features</th>\n",
       "      <th>MAE</th>\n",
       "      <th>RMSE</th>\n",
       "    </tr>\n",
       "  </thead>\n",
       "  <tbody>\n",
       "    <tr>\n",
       "      <th>0</th>\n",
       "      <td>1</td>\n",
       "      <td>0.491471</td>\n",
       "      <td>0.697953</td>\n",
       "    </tr>\n",
       "    <tr>\n",
       "      <th>1</th>\n",
       "      <td>2</td>\n",
       "      <td>0.490817</td>\n",
       "      <td>0.697408</td>\n",
       "    </tr>\n",
       "    <tr>\n",
       "      <th>2</th>\n",
       "      <td>3</td>\n",
       "      <td>0.488067</td>\n",
       "      <td>0.694579</td>\n",
       "    </tr>\n",
       "    <tr>\n",
       "      <th>3</th>\n",
       "      <td>4</td>\n",
       "      <td>0.487785</td>\n",
       "      <td>0.694010</td>\n",
       "    </tr>\n",
       "    <tr>\n",
       "      <th>4</th>\n",
       "      <td>5</td>\n",
       "      <td>0.485906</td>\n",
       "      <td>0.693100</td>\n",
       "    </tr>\n",
       "    <tr>\n",
       "      <th>5</th>\n",
       "      <td>6</td>\n",
       "      <td>0.481956</td>\n",
       "      <td>0.689403</td>\n",
       "    </tr>\n",
       "    <tr>\n",
       "      <th>6</th>\n",
       "      <td>7</td>\n",
       "      <td>0.480496</td>\n",
       "      <td>0.687572</td>\n",
       "    </tr>\n",
       "  </tbody>\n",
       "</table>\n",
       "</div>"
      ],
      "text/plain": [
       "   latent features       MAE      RMSE\n",
       "0                1  0.491471  0.697953\n",
       "1                2  0.490817  0.697408\n",
       "2                3  0.488067  0.694579\n",
       "3                4  0.487785  0.694010\n",
       "4                5  0.485906  0.693100\n",
       "5                6  0.481956  0.689403\n",
       "6                7  0.480496  0.687572"
      ]
     },
     "execution_count": 9,
     "metadata": {},
     "output_type": "execute_result"
    }
   ],
   "source": [
    "mae_reg_res = []\n",
    "rmse_reg_res = []\n",
    "factors = []\n",
    "\n",
    "for i in range(1, 8):\n",
    "    print(\"train test\", i)\n",
    "    model_i = RSVD(n_factors=i, n_epochs=30, reg=0.05, verbose=False)\n",
    "    model_i.fit(train_data)\n",
    "\n",
    "    pred_test = model_i.predict(testset)\n",
    "\n",
    "    mae_reg_res.append(mae(testset[\"rating\"].to_list(), pred_test))\n",
    "    rmse_reg_res.append(rmse(testset[\"rating\"].to_list(), pred_test))\n",
    "    factors.append(i)\n",
    "\n",
    "result_reg = pd.DataFrame({\"latent features\": factors, \"MAE\": mae_reg_res, \"RMSE\": rmse_reg_res})\n",
    "result_reg"
   ]
  },
  {
   "cell_type": "markdown",
   "metadata": {},
   "source": [
    "### Plot Result"
   ]
  },
  {
   "cell_type": "code",
   "execution_count": 12,
   "metadata": {},
   "outputs": [
    {
     "data": {
      "image/png": "[encoded data removed]",
      "text/plain": [
       "<Figure size 1200x600 with 2 Axes>"
      ]
     },
     "metadata": {},
     "output_type": "display_data"
    }
   ],
   "source": [
    "import matplotlib.pyplot as plt\n",
    "\n",
    "# Plotting\n",
    "plt.figure(figsize=(12, 6))\n",
    "\n",
    "# Left subplot for MAE\n",
    "plt.subplot(1, 2, 1)\n",
    "plt.plot(result[\"latent features\"], result[\"MAE\"], marker='o', label=\"reg=0\")\n",
    "plt.plot(result_reg[\"latent features\"], result_reg[\"MAE\"], marker='o', label=\"reg=0.05\")\n",
    "\n",
    "plt.legend(loc='upper right')\n",
    "plt.xlabel('latent features')\n",
    "plt.ylabel('MAE')\n",
    "plt.grid()\n",
    "\n",
    "# Right subplot for RMSE\n",
    "plt.subplot(1, 2, 2)\n",
    "plt.plot(result[\"latent features\"], result[\"RMSE\"], marker='o', label=\"reg=0\")\n",
    "plt.plot(result_reg[\"latent features\"], result_reg[\"RMSE\"], marker='o', label=\"reg=0.05\")\n",
    "\n",
    "plt.legend(loc='upper right')\n",
    "plt.xlabel('latent features')\n",
    "plt.ylabel('RMSE')\n",
    "plt.grid()\n",
    "\n",
    "plt.suptitle(\"Hasil Evaluasi Model RSVD\")\n",
    "plt.tight_layout()\n",
    "plt.show()"
   ]
  },
  {
   "cell_type": "markdown",
   "metadata": {},
   "source": [
    "## Dumping model to file"
   ]
  },
  {
   "cell_type": "code",
   "execution_count": 56,
   "metadata": {},
   "outputs": [],
   "source": [
    "model_rsvd = RSVD(n_factors=7, n_epochs=30, reg=0.05, verbose=False)\n",
    "model_rsvd.fit(train_data)\n",
    "\n",
    "with gzip.open(\"rsvd_model.pkl.gz\", \"wb\") as f:\n",
    "    pickled = pickle.dumps(model_rsvd)\n",
    "    optimized_pickle = pickletools.optimize(pickled)\n",
    "    f.write(optimized_pickle)"
   ]
  }
 ],
 "metadata": {
  "kernelspec": {
   "display_name": "Python 3.11.8 ('recommender_system')",
   "language": "python",
   "name": "python3"
  },
  "language_info": {
   "codemirror_mode": {
    "name": "ipython",
    "version": 3
   },
   "file_extension": ".py",
   "mimetype": "text/x-python",
   "name": "python",
   "nbconvert_exporter": "python",
   "pygments_lexer": "ipython3",
   "version": "3.11.6"
  },
  "vscode": {
   "interpreter": {
    "hash": "02bbd77abf7e7e998936caf142da5aa20cc58edf570f105483a047f74e788379"
   }
  }
 },
 "nbformat": 4,
 "nbformat_minor": 2
}
